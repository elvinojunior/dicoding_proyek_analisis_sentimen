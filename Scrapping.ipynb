{
  "nbformat": 4,
  "nbformat_minor": 0,
  "metadata": {
    "colab": {
      "provenance": []
    },
    "kernelspec": {
      "name": "python3",
      "display_name": "Python 3"
    },
    "language_info": {
      "name": "python"
    }
  },
  "cells": [
    {
      "cell_type": "markdown",
      "source": [
        "# Import Library"
      ],
      "metadata": {
        "id": "sL0qi8RPgXpW"
      }
    },
    {
      "cell_type": "code",
      "source": [
        "!pip install google-play-scraper\n",
        "\n",
        "# Mengimpor pustaka google_play_scraper untuk mengakses ulasan dan informasi aplikasi dari Google Play Store.\n",
        "from google_play_scraper import app, reviews, Sort, reviews_all\n",
        "\n",
        "#Mengimpor csv untuk menyimpan hasil scrapping ke dalam file csv\n",
        "import csv"
      ],
      "metadata": {
        "id": "4tCPeUSVhPcT"
      },
      "execution_count": 1,
      "outputs": []
    },
    {
      "cell_type": "markdown",
      "source": [
        "# Scrapping"
      ],
      "metadata": {
        "id": "ItahHH_TgX6M"
      }
    },
    {
      "cell_type": "code",
      "execution_count": 2,
      "metadata": {
        "id": "FkGPM2H0gW7A"
      },
      "outputs": [],
      "source": [
        "scrap_review = reviews_all(\n",
        "                'com.shopee.foody.driver.id',\n",
        "                lang='id',\n",
        "                country='id',\n",
        "                sort=Sort.NEWEST,\n",
        "                count=20000\n",
        ")"
      ]
    },
    {
      "cell_type": "markdown",
      "source": [
        "# Save file to csv"
      ],
      "metadata": {
        "id": "uBrGsG4zgYLY"
      }
    },
    {
      "cell_type": "code",
      "source": [
        "with open('shopee_driver_review.csv', mode='w', encoding='utf-8', newline='') as file:\n",
        "    writer = csv.writer(file)\n",
        "    writer.writerow(['userName', 'score', 'content', 'thumbsUpCount', 'replyContent'])\n",
        "\n",
        "    for review in scrap_review:\n",
        "        writer.writerow([\n",
        "            review.get('userName', ''),\n",
        "            review.get('score', ''),\n",
        "            review.get('content', ''),\n",
        "            review.get('thumbsUpCount', ''),\n",
        "            review.get('replyContent', '')\n",
        "        ])"
      ],
      "metadata": {
        "id": "CDn8YDQ4iWIJ"
      },
      "execution_count": 4,
      "outputs": []
    }
  ]
}